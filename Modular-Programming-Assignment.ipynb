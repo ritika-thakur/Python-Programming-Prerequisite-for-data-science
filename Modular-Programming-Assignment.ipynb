{
 "cells": [
  {
   "cell_type": "code",
   "execution_count": 4,
   "metadata": {},
   "outputs": [],
   "source": [
    "import numpy as np"
   ]
  },
  {
   "cell_type": "code",
   "execution_count": null,
   "metadata": {},
   "outputs": [],
   "source": [
    "numbers = np.random.randint(low=789, high=1023, size=1000)"
   ]
  },
  {
   "cell_type": "code",
   "execution_count": null,
   "metadata": {},
   "outputs": [],
   "source": [
    "numbers = list(numbers)"
   ]
  },
  {
   "cell_type": "code",
   "execution_count": null,
   "metadata": {},
   "outputs": [],
   "source": [
    "num = numbers[0]"
   ]
  },
  {
   "cell_type": "code",
   "execution_count": null,
   "metadata": {},
   "outputs": [],
   "source": [
    "num"
   ]
  },
  {
   "cell_type": "code",
   "execution_count": null,
   "metadata": {},
   "outputs": [],
   "source": [
    "def prime_or_not(x):\n",
    "    \n",
    "    for divisor in range (2,x):\n",
    "        \n",
    "        if x % divisor == 0:\n",
    "            \n",
    "            return 0,x\n",
    "        \n",
    "        if divisor == (x-1):\n",
    "            \n",
    "            return 1,x"
   ]
  },
  {
   "cell_type": "code",
   "execution_count": null,
   "metadata": {},
   "outputs": [],
   "source": [
    "prime = []\n",
    "\n",
    "for num in numbers:\n",
    "    \n",
    "    y,z = prime_or_not(num)\n",
    "    \n",
    "    if y == 1:\n",
    "        \n",
    "        prime.append(z)"
   ]
  },
  {
   "cell_type": "markdown",
   "metadata": {},
   "source": [
    "# ASSIGNMENT: \n",
    "\n",
    " Generate 1000 random 10 digit hexadecimal numbers, determine the highest digit in each hexadecimal number. \n",
    "\n",
    " Group all the hexadecimal numbers according to even highest digits, odd highest digits, and prime highest digits.\n",
    "\n",
    " Determine the frequency of the hexadecimal numbers having even highest digits, odd highest digits, and prime highest digits.\n",
    "\n"
   ]
  },
  {
   "cell_type": "code",
   "execution_count": 5,
   "metadata": {},
   "outputs": [],
   "source": [
    "number_of_digits = np.random.randint(low=5, high=11, size=1000)"
   ]
  },
  {
   "cell_type": "code",
   "execution_count": 7,
   "metadata": {},
   "outputs": [],
   "source": [
    "def generate_hex(number_of_digits):\n",
    "    \n",
    "    hex_num = ''\n",
    "    \n",
    "    for i in range(0,number_of_digits):\n",
    "        \n",
    "        hex_num = hex_num + str(hex(np.random.randint(low=0, high=16, size=1)[0]))[2:]\n",
    "        \n",
    "    return hex_num"
   ]
  },
  {
   "cell_type": "code",
   "execution_count": 9,
   "metadata": {},
   "outputs": [],
   "source": [
    "def return_highest_digit(num):\n",
    "\n",
    "    D = {'a':10, 'b':11, 'c': 12, 'd':13, 'e':14, 'f':15}\n",
    "    \n",
    "    keylist = list(D.keys())\n",
    "    \n",
    "    enum_digits =[]\n",
    "    \n",
    "    for digit in num:\n",
    "        \n",
    "        if digit in keylist: \n",
    "            \n",
    "            enum = D[digit]\n",
    "             \n",
    "        else:\n",
    "            \n",
    "            enum = int(digit)\n",
    "            \n",
    "        enum_digits.append(enum)\n",
    "        \n",
    "    return max(enum_digits)\n"
   ]
  },
  {
   "cell_type": "code",
   "execution_count": 14,
   "metadata": {},
   "outputs": [],
   "source": [
    "def compute_frequency(highest_digits_list):\n",
    "    \n",
    "    prime_frequency = 0\n",
    "    \n",
    "    even_frequency = 0\n",
    "    \n",
    "    odd_frequency = 0\n",
    "    \n",
    "    prime_numbers = [1,3,5,7,11,13]\n",
    "    \n",
    "    odd_numbers = [1,3,5,7,9,11,13,15]\n",
    "    \n",
    "    for highest_digit in highest_digits_list:\n",
    "        \n",
    "        if highest_digit%2 == 0:\n",
    "            \n",
    "            even_frequency = even_frequency+1\n",
    "            \n",
    "        else: \n",
    "            \n",
    "            if highest_digit in prime_numbers:\n",
    "                \n",
    "                prime_frequency  = prime_frequency + 1\n",
    "                    \n",
    "            if highest_digit in odd_numbers:\n",
    "                \n",
    "                odd_frequency = odd_frequency + 1\n",
    "                \n",
    "    return even_frequency, odd_frequency, prime_frequency"
   ]
  },
  {
   "cell_type": "code",
   "execution_count": 20,
   "metadata": {},
   "outputs": [],
   "source": [
    "highest_digits = list()\n",
    "\n",
    "for num in number_of_digits:\n",
    "    \n",
    "    hex_num = generate_hex(num)\n",
    "    \n",
    "    highest_digit = return_highest_digit(hex_num)\n",
    "    \n",
    "    highest_digits.append(highest_digit)\n",
    "    \n",
    "even_freq, odd_freq, prime_freq = compute_frequency(highest_digits)"
   ]
  },
  {
   "cell_type": "code",
   "execution_count": 21,
   "metadata": {},
   "outputs": [
    {
     "data": {
      "text/plain": [
       "378"
      ]
     },
     "execution_count": 21,
     "metadata": {},
     "output_type": "execute_result"
    }
   ],
   "source": [
    "even_freq"
   ]
  },
  {
   "cell_type": "code",
   "execution_count": 22,
   "metadata": {},
   "outputs": [
    {
     "data": {
      "text/plain": [
       "622"
      ]
     },
     "execution_count": 22,
     "metadata": {},
     "output_type": "execute_result"
    }
   ],
   "source": [
    "odd_freq"
   ]
  },
  {
   "cell_type": "code",
   "execution_count": 23,
   "metadata": {},
   "outputs": [
    {
     "data": {
      "text/plain": [
       "192"
      ]
     },
     "execution_count": 23,
     "metadata": {},
     "output_type": "execute_result"
    }
   ],
   "source": [
    "prime_freq"
   ]
  },
  {
   "cell_type": "code",
   "execution_count": null,
   "metadata": {},
   "outputs": [],
   "source": []
  }
 ],
 "metadata": {
  "kernelspec": {
   "display_name": "Python 3",
   "language": "python",
   "name": "python3"
  },
  "language_info": {
   "codemirror_mode": {
    "name": "ipython",
    "version": 3
   },
   "file_extension": ".py",
   "mimetype": "text/x-python",
   "name": "python",
   "nbconvert_exporter": "python",
   "pygments_lexer": "ipython3",
   "version": "3.7.0"
  }
 },
 "nbformat": 4,
 "nbformat_minor": 2
}
