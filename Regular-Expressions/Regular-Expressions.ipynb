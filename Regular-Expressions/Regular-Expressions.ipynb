{
 "cells": [
  {
   "cell_type": "markdown",
   "metadata": {},
   "source": [
    "## Characters and their meaning in RegEx. \n",
    "\n",
    "\n",
    "> corpus means collection of textual documents.\n",
    "\n",
    "> ` r ` actually means raw string\n",
    "\n",
    "> ` $ ` (Dollar) is always added at the end of a string.\n",
    "\n",
    "> ` ^ ` (carot) used to mark the starting letters of a string\n",
    "\n",
    "> ` . ` (wildcard) denotes a character which can be literally anything.\n",
    " \n",
    "> ` ? ` denotes that the character just before \"?\" is optional. The word shall be included in with or without the character placed just before \"?\". \n",
    "\n",
    "> ` | ` (pipe) and ` [ ] ` stands for \"or\". For e.x.  ` (g|h|i) = [ghi] `\n",
    " \n",
    "> ` + ` check for the occurance of character for one or more than one times. \n",
    "\n",
    "> ` * ` check for the occurance of character for zero or more than one times.\n",
    "\n",
    "> ` \\ `  helps a character to be recognized as a normal character of the string. Ex. on line 51 and 56 \n",
    "\n",
    "> ` { } ` tells the number of characters, for the expression just before \"{ }\", the string should consist of.\n",
    "\n",
    "> ` ?: `  makes the expression include all the characters coming before the patter, in the string.\n",
    "\n",
    "> ` \\d ` any digit lying between 0-9\n",
    "\n",
    "> ` \\D` any non digit character \n",
    "\n",
    "> `\\s` any wide space character"
   ]
  },
  {
   "cell_type": "code",
   "execution_count": 1,
   "metadata": {},
   "outputs": [],
   "source": [
    "import re \n",
    "import nltk"
   ]
  },
  {
   "cell_type": "code",
   "execution_count": 2,
   "metadata": {},
   "outputs": [],
   "source": [
    "wordlist = []\n",
    "\n",
    "for w in nltk.corpus.words.words('en'):\n",
    "    if w.islower():\n",
    "        wordlist.append(w)\n",
    "        "
   ]
  },
  {
   "cell_type": "code",
   "execution_count": 3,
   "metadata": {},
   "outputs": [
    {
     "data": {
      "text/plain": [
       "210687"
      ]
     },
     "execution_count": 3,
     "metadata": {},
     "output_type": "execute_result"
    }
   ],
   "source": [
    "len(wordlist)"
   ]
  },
  {
   "cell_type": "code",
   "execution_count": 4,
   "metadata": {},
   "outputs": [],
   "source": [
    "ed_wordlist = []\n",
    "\n",
    "for w in wordlist:\n",
    "    if re.search(r'ed$', w):\n",
    "        ed_wordlist.append(w)"
   ]
  },
  {
   "cell_type": "code",
   "execution_count": 5,
   "metadata": {},
   "outputs": [
    {
     "data": {
      "text/plain": [
       "['abaissed',\n",
       " 'abandoned',\n",
       " 'abased',\n",
       " 'abashed',\n",
       " 'abatised',\n",
       " 'abed',\n",
       " 'aborted',\n",
       " 'abridged',\n",
       " 'abscessed',\n",
       " 'absconded']"
      ]
     },
     "execution_count": 5,
     "metadata": {},
     "output_type": "execute_result"
    }
   ],
   "source": [
    "ed_wordlist[:10]"
   ]
  },
  {
   "cell_type": "code",
   "execution_count": 6,
   "metadata": {},
   "outputs": [
    {
     "data": {
      "text/plain": [
       "['coquetry',\n",
       " 'coquette',\n",
       " 'haqueton',\n",
       " 'maquette',\n",
       " 'moquette',\n",
       " 'requital',\n",
       " 'requiter',\n",
       " 'roquette',\n",
       " 'sequitur',\n",
       " 'unquoted']"
      ]
     },
     "execution_count": 6,
     "metadata": {},
     "output_type": "execute_result"
    }
   ],
   "source": [
    "eight_char_wordlist = list()\n",
    "\n",
    "for w in wordlist:\n",
    "    if re.search(r'^..q..t..$',w):\n",
    "        eight_char_wordlist.append(w)\n",
    "        \n",
    "eight_char_wordlist"
   ]
  },
  {
   "cell_type": "code",
   "execution_count": 7,
   "metadata": {},
   "outputs": [
    {
     "data": {
      "text/plain": [
       "['email', 'e-mail', 'e_mail']"
      ]
     },
     "execution_count": 7,
     "metadata": {},
     "output_type": "execute_result"
    }
   ],
   "source": [
    "tokens_list = ['email', 'e-mail', 'e_mail', 'e/mail']\n",
    "\n",
    "valid_email_list = list()\n",
    "\n",
    "for w in tokens_list: \n",
    "    if re.search(r'e(_|-)?mail$', w):\n",
    "        valid_email_list.append(w)\n",
    "\n",
    "valid_email_list    "
   ]
  },
  {
   "cell_type": "code",
   "execution_count": 8,
   "metadata": {},
   "outputs": [],
   "source": [
    "four_letter_wordlist = []\n",
    "\n",
    "for w in wordlist:\n",
    "    if re.search(r'^[pfrs][uyek][qwit][cvmg]$', w): \n",
    "    #or re.search(r'^(p|f|r|s)(u|y|e|k)(q|w|i|t)(c|v|m|g)$', w)\n",
    "        four_letter_wordlist.append(w)  \n",
    "    "
   ]
  },
  {
   "cell_type": "code",
   "execution_count": 9,
   "metadata": {},
   "outputs": [
    {
     "data": {
      "text/plain": [
       "['pyic', 'reim', 'skim', 'skiv']"
      ]
     },
     "execution_count": 9,
     "metadata": {},
     "output_type": "execute_result"
    }
   ],
   "source": [
    "four_letter_wordlist"
   ]
  },
  {
   "cell_type": "code",
   "execution_count": 10,
   "metadata": {},
   "outputs": [],
   "source": [
    "chatwords = sorted(set( w for w in nltk.corpus.nps_chat.words()))"
   ]
  },
  {
   "cell_type": "code",
   "execution_count": 11,
   "metadata": {},
   "outputs": [
    {
     "data": {
      "text/plain": [
       "['ahhahahaha',\n",
       " 'ahhh',\n",
       " 'ahhhh',\n",
       " 'ahhhhhh',\n",
       " 'ahhhhhhhhhhhhhh',\n",
       " 'h',\n",
       " 'ha',\n",
       " 'haaa',\n",
       " 'hah',\n",
       " 'haha',\n",
       " 'hahaaa',\n",
       " 'hahah',\n",
       " 'hahaha']"
      ]
     },
     "execution_count": 11,
     "metadata": {},
     "output_type": "execute_result"
    }
   ],
   "source": [
    "comedy_words = []\n",
    "\n",
    "for w in chatwords:\n",
    "    if re.search(r'^[ha]+$', w):\n",
    "        comedy_words.append(w)\n",
    "        \n",
    "comedy_words[7:20]"
   ]
  },
  {
   "cell_type": "code",
   "execution_count": 12,
   "metadata": {},
   "outputs": [
    {
     "data": {
      "text/plain": [
       "['miiiiiiiiiiiiinnnnnnnnnnneeeeeeeeee',\n",
       " 'miiiiiinnnnnnnnnneeeeeeee',\n",
       " 'mine',\n",
       " 'mmmmmmmmiiiiiiiiinnnnnnnnneeeeeeee']"
      ]
     },
     "execution_count": 12,
     "metadata": {},
     "output_type": "execute_result"
    }
   ],
   "source": [
    "silly_words_list = []\n",
    "\n",
    "for w in chatwords:\n",
    "    if re.search(r'^m+i+n+e+$', w):\n",
    "        silly_words_list.append(w)\n",
    "\n",
    "silly_words_list"
   ]
  },
  {
   "cell_type": "code",
   "execution_count": 13,
   "metadata": {},
   "outputs": [],
   "source": [
    "treebankwords = sorted(set(nltk.corpus.treebank.words()))"
   ]
  },
  {
   "cell_type": "code",
   "execution_count": 14,
   "metadata": {},
   "outputs": [
    {
     "data": {
      "text/plain": [
       "['0.0085', '0.05', '0.1', '0.16', '0.2', '0.25', '0.28', '0.3', '0.4', '0.5']"
      ]
     },
     "execution_count": 14,
     "metadata": {},
     "output_type": "execute_result"
    }
   ],
   "source": [
    "float_point_numbers = list()\n",
    "\n",
    "for w in treebankwords:\n",
    "    if re.search(r'^[0-9]+\\.[0-9]+$',w):\n",
    "         float_point_numbers.append(w)\n",
    "                                               \n",
    "float_point_numbers[:10]"
   ]
  },
  {
   "cell_type": "code",
   "execution_count": 15,
   "metadata": {},
   "outputs": [
    {
     "data": {
      "text/plain": [
       "['C$', 'US$']"
      ]
     },
     "execution_count": 15,
     "metadata": {},
     "output_type": "execute_result"
    }
   ],
   "source": [
    "dollar_sign_list = []\n",
    "\n",
    "for w in treebankwords:\n",
    "    if re.search(r'^[A-Z]+\\$$', w): # '\\' helps $ to be recognized as a character of the string \n",
    "        dollar_sign_list.append(w)\n",
    "    \n",
    "dollar_sign_list"
   ]
  },
  {
   "cell_type": "code",
   "execution_count": 16,
   "metadata": {},
   "outputs": [
    {
     "data": {
      "text/plain": [
       "['1614',\n",
       " '1637',\n",
       " '1787',\n",
       " '1901',\n",
       " '1903',\n",
       " '1917',\n",
       " '1925',\n",
       " '1929',\n",
       " '1933',\n",
       " '1934']"
      ]
     },
     "execution_count": 16,
     "metadata": {},
     "output_type": "execute_result"
    }
   ],
   "source": [
    "# {} tells how many digit number (or character in general) has to be searched\n",
    "\n",
    "four_digit_list = []\n",
    "\n",
    "for w in treebankwords:\n",
    "    if re.search(r'^[0-9]{4}$', w):\n",
    "        four_digit_list.append(w)\n",
    "\n",
    "four_digit_list[:10]"
   ]
  },
  {
   "cell_type": "code",
   "execution_count": 17,
   "metadata": {},
   "outputs": [
    {
     "data": {
      "text/plain": [
       "['1948',\n",
       " '1953',\n",
       " '1955',\n",
       " '1956',\n",
       " '1961',\n",
       " '1965',\n",
       " '1966',\n",
       " '1967',\n",
       " '1968',\n",
       " '1969']"
      ]
     },
     "execution_count": 17,
     "metadata": {},
     "output_type": "execute_result"
    }
   ],
   "source": [
    "year_list = []\n",
    "\n",
    "for w in treebankwords:\n",
    "    if re.search(r'^[1-2][0-9][0-9]{2}$', w):\n",
    "        year_list.append(w)\n",
    "    \n",
    "year_list[10:20]"
   ]
  },
  {
   "cell_type": "code",
   "execution_count": 18,
   "metadata": {},
   "outputs": [
    {
     "data": {
      "text/plain": [
       "['1933',\n",
       " '1934',\n",
       " '1940s',\n",
       " '1948',\n",
       " '195',\n",
       " '1950s',\n",
       " '1953',\n",
       " '1955',\n",
       " '1956',\n",
       " '1960s']"
      ]
     },
     "execution_count": 18,
     "metadata": {},
     "output_type": "execute_result"
    }
   ],
   "source": [
    "digit_list = []\n",
    "\n",
    "for w in treebankwords:\n",
    "    if re.search(r'^[1-2][0-9][0-9]{,2}$', w):  #includes 0-2 digits\n",
    "        digit_list.append(w)\n",
    "    if re.search(r'^[1-2][0-9][0-9]\\d\\D{1,2}$',w):  #includes 3-4 digits\n",
    "        digit_list.append(w)\n",
    "    \n",
    "digit_list[60:70]"
   ]
  },
  {
   "cell_type": "code",
   "execution_count": 19,
   "metadata": {},
   "outputs": [
    {
     "name": "stdout",
     "output_type": "stream",
     "text": [
      "['ly']\n"
     ]
    },
    {
     "data": {
      "text/plain": [
       "['deadly']"
      ]
     },
     "execution_count": 19,
     "metadata": {},
     "output_type": "execute_result"
    }
   ],
   "source": [
    " # * here checks for anything (.) occuring btw 0 or more times.\n",
    "before = re.findall(r'^.*(ing|ed|ly|ious|ies|ive|es|s|ment)$', 'deadly')\n",
    "print(before)\n",
    "\n",
    "# ?: makes the expression include the characters coming before the pattern.\n",
    "re.findall(r'^.*(?:ing|ed|ly|ious|ies|ive|es|s|ment)$', 'deadly')"
   ]
  }
 ],
 "metadata": {
  "kernelspec": {
   "display_name": "Python 3",
   "language": "python",
   "name": "python3"
  },
  "language_info": {
   "codemirror_mode": {
    "name": "ipython",
    "version": 3
   },
   "file_extension": ".py",
   "mimetype": "text/x-python",
   "name": "python",
   "nbconvert_exporter": "python",
   "pygments_lexer": "ipython3",
   "version": "3.7.0"
  }
 },
 "nbformat": 4,
 "nbformat_minor": 2
}
